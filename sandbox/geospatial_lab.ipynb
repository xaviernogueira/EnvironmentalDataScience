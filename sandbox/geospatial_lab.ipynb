{
 "cells": [
  {
   "cell_type": "markdown",
   "id": "f8a66d21-dcec-470e-a904-2dac1e70d1de",
   "metadata": {},
   "source": [
    "# Geospatial lab"
   ]
  },
  {
   "cell_type": "markdown",
   "id": "7364c6d2-f438-4b6f-964a-a1bdec021edd",
   "metadata": {},
   "source": [
    "## Tech stack\n",
    "**Access data:**\n",
    "* `requests` - for accsessing RESTful APIs.\n",
    "* [`intake`](https://intake.readthedocs.io/en/latest/index.html) - see example of intake [here](http://gallery.pangeo.io/repos/pangeo-data/pangeo-tutorial-gallery/intake.html).\n",
    "* [`hyrivers`](https://docs.hyriver.io/) - for accessing hydrology related datasets programatically. \n",
    "* [`fsspec`](https://filesystem-spec.readthedocs.io/en/latest/) - for accessing remote files (i.e., AWS cloud) as if they were local (somewhat of an `os` wrapper).\n",
    "\n",
    "**Manipulate data:**\n",
    "* [`xarray`](https://docs.xarray.dev/en/stable/index.html) - for handling N-dimensional datasets in a lazy + parallelized way.\n",
    "* [`rioxarray`](https://corteva.github.io/rioxarray/stable/index.html) - for manipulating xarray data (reprojection, resampling, etc.).\n",
    "* [`dask`](https://www.dask.org/) - for handling tabular data in a lazy + parallelized way.\n",
    "\n",
    "**Visualize data:**\n",
    "* [`hvplot`](https://hvplot.holoviz.org/user_guide/index.html) - for visualizing tabular data.\n",
    "* [`geoviews`](https://geoviews.org/) - for visualizing geospatial data. \n",
    "* [`cartopy`](https://scitools.org.uk/cartopy/docs/latest/) - for controlling visualization projections.\n",
    "\n",
    "**Cool stuff to funnel data into:**\n",
    "* [`Open Global Glacier Model`](https://docs.oggm.org/en/stable/introduction.html)"
   ]
  },
  {
   "cell_type": "code",
   "execution_count": 3,
   "id": "62207bf3-9a1e-4097-86a8-8ed2e0342b44",
   "metadata": {},
   "outputs": [
    {
     "ename": "ModuleNotFoundError",
     "evalue": "No module named 'intake'",
     "output_type": "error",
     "traceback": [
      "\u001b[1;31m---------------------------------------------------------------------------\u001b[0m",
      "\u001b[1;31mModuleNotFoundError\u001b[0m                       Traceback (most recent call last)",
      "Input \u001b[1;32mIn [3]\u001b[0m, in \u001b[0;36m<cell line: 2>\u001b[1;34m()\u001b[0m\n\u001b[0;32m      1\u001b[0m \u001b[38;5;28;01mimport\u001b[39;00m \u001b[38;5;21;01mxarray\u001b[39;00m \u001b[38;5;28;01mas\u001b[39;00m \u001b[38;5;21;01mxr\u001b[39;00m\n\u001b[1;32m----> 2\u001b[0m \u001b[38;5;28;01mimport\u001b[39;00m \u001b[38;5;21;01mintake\u001b[39;00m\n",
      "\u001b[1;31mModuleNotFoundError\u001b[0m: No module named 'intake'"
     ]
    }
   ],
   "source": [
    "import xarray as xr\n",
    "#import intake"
   ]
  },
  {
   "cell_type": "code",
   "execution_count": null,
   "id": "ee5551b8-5650-44f5-a026-58ce2e2b0821",
   "metadata": {},
   "outputs": [],
   "source": []
  }
 ],
 "metadata": {
  "kernelspec": {
   "display_name": "Python 3 (ipykernel)",
   "language": "python",
   "name": "python3"
  },
  "language_info": {
   "codemirror_mode": {
    "name": "ipython",
    "version": 3
   },
   "file_extension": ".py",
   "mimetype": "text/x-python",
   "name": "python",
   "nbconvert_exporter": "python",
   "pygments_lexer": "ipython3",
   "version": "3.10.5"
  }
 },
 "nbformat": 4,
 "nbformat_minor": 5
}

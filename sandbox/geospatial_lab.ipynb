{
 "cells": [
  {
   "cell_type": "markdown",
   "id": "f8a66d21-dcec-470e-a904-2dac1e70d1de",
   "metadata": {},
   "source": [
    "# Geospatial lab"
   ]
  },
  {
   "cell_type": "markdown",
   "id": "7364c6d2-f438-4b6f-964a-a1bdec021edd",
   "metadata": {},
   "source": [
    "## Tech stack\n",
    "**Access data:**\n",
    "* `requests` - for accsessing RESTful APIs.\n",
    "* [`intake`](https://intake.readthedocs.io/en/latest/index.html) - a lightweight Python package for finding, investigating, loading, and disseminating data (see example of intake [here](http://gallery.pangeo.io/repos/pangeo-data/pangeo-tutorial-gallery/intake.html)).\n",
    "* [`intake-stac`](https://github.com/intake/intake-stac) for accessing [SpatioTemporalAssetCatelogs (STACs)](https://stacspec.org/en), which are asimple catalog format that is finding wide adoption in the remote sensing world, especially for datasets stored in the Cloud. \n",
    "    * See [here](https://hackmd.io/cyJZkjV5TCWTJg1mUAoEVA) for the design document explaining intake + STAC. \n",
    "    * See [here](https://github.com/radiantearth/stac-spec) for a full explanation of STAC.\n",
    "    * **Note:** STAC catalogs are provided to intake as a json, but where do we get the jsons? `satsearch` seems to be an option, **but the better options seems to be [`pystac_client`](pystac_client) which can be used to query the STAC and feed into `intake-stac`.**\n",
    "    * To see a list of STAC Catelogs to explore go [here](https://stacindex.org/catalogs?type=api).\n",
    "* [`hyrivers`](https://docs.hyriver.io/) - for accessing hydrology related datasets programatically. \n",
    "* [`fsspec`](https://filesystem-spec.readthedocs.io/en/latest/) - for accessing remote files (i.e., AWS cloud) as if they were local (somewhat of an `os` wrapper).\n",
    "\n",
    "**Manipulate data:**\n",
    "* [`xarray`](https://docs.xarray.dev/en/stable/index.html) - for handling N-dimensional datasets in a lazy + parallelized way.\n",
    "* [`rioxarray`](https://corteva.github.io/rioxarray/stable/index.html) - for manipulating xarray data (reprojection, resampling, etc.).\n",
    "* [`dask`](https://www.dask.org/) - for handling tabular data in a lazy + parallelized way.\n",
    "\n",
    "**Visualize data:**\n",
    "* [`hvplot`](https://hvplot.holoviz.org/user_guide/index.html) - for visualizing tabular data.\n",
    "* [`geoviews`](https://geoviews.org/) - for visualizing geospatial data. \n",
    "* [`cartopy`](https://scitools.org.uk/cartopy/docs/latest/) - for controlling visualization projections.\n",
    "\n",
    "**Cool stuff to funnel data into:**\n",
    "* [`Open Global Glacier Model`](https://docs.oggm.org/en/stable/introduction.html)"
   ]
  },
  {
   "cell_type": "code",
   "execution_count": 2,
   "id": "62207bf3-9a1e-4097-86a8-8ed2e0342b44",
   "metadata": {},
   "outputs": [],
   "source": [
    "import xarray as xr\n",
    "import rioxarray\n",
    "import dask\n",
    "import intake\n",
    "import intake_stac\n",
    "import requests\n",
    "import pystac_client\n",
    "import fsspec\n",
    "#import hyrivers must import the sub-packages specifically\n",
    "import hvplot\n",
    "import geoviews\n",
    "import cartopy"
   ]
  },
  {
   "cell_type": "code",
   "execution_count": null,
   "id": "ee5551b8-5650-44f5-a026-58ce2e2b0821",
   "metadata": {},
   "outputs": [],
   "source": []
  }
 ],
 "metadata": {
  "kernelspec": {
   "display_name": "Python 3 (ipykernel)",
   "language": "python",
   "name": "python3"
  },
  "language_info": {
   "codemirror_mode": {
    "name": "ipython",
    "version": 3
   },
   "file_extension": ".py",
   "mimetype": "text/x-python",
   "name": "python",
   "nbconvert_exporter": "python",
   "pygments_lexer": "ipython3",
   "version": "3.10.6"
  }
 },
 "nbformat": 4,
 "nbformat_minor": 5
}

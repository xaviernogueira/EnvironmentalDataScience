{
 "cells": [
  {
   "cell_type": "markdown",
   "id": "b80da651-79f0-43ac-b557-0b21fb272fd2",
   "metadata": {
    "tags": []
   },
   "source": [
    "DAYMET Downscaler\n",
    "=================\n",
    "**Author:** Xavier R Nogueira\n",
    "\n",
    "**Overview:** Uses DAYMET [single pixel extractor API](https://daymet.ornl.gov/web_services#single), in conjunction with [US Hourly precipitation gage data](https://www.ncei.noaa.gov/maps/hourly/?layers=001) to train a model using a model that is a concrete implementation of the machine learning Python protocol defined in `machine_learning/protocols.py`.\n",
    "\n",
    "Note: The goal here is to develop a performant, but data source light, prediction model such that data access for any region is rapid, and model explainability remains high.\n",
    "\n",
    "## Potential features\n",
    "* DAYMET data - raw daily value columns:\n",
    "    * `tmax` - maximum temperature.\n",
    "    * `tmin` - minimum temperature.\n",
    "    * `srad` - shortwave radiation.\n",
    "    * `vp` - vapor pressure.\n",
    "    * `swe` - snow-water equivalent.\n",
    "    * `prcp` - precipitation.\n",
    "    * `dayl` - daylength.\n",
    "    * **Note:** DAYMET data will be resampled (method pending) such that it can match the resolution of our 30m elevation data.\n",
    "* Elevation data - 3DEP DEMs from [`Py3DEP`](https://docs.hyriver.io/readme/py3dep.html) are used to make the following features.\n",
    "    * `raw_z` - raw elevation above SL.\n",
    "    * `rel_z` - elevation \n",
    "* Kriging prediction - use just the ground data to predict spatially"
   ]
  },
  {
   "cell_type": "markdown",
   "id": "c7f3fb83-19ee-4c4c-b6af-683ee18dafda",
   "metadata": {},
   "source": [
    "## Environment prep"
   ]
  },
  {
   "cell_type": "code",
   "execution_count": 229,
   "id": "e44828a0-9bb3-4189-8f34-aa35cdbad402",
   "metadata": {},
   "outputs": [],
   "source": [
    "# import base python libaries\n",
    "import requests\n",
    "import datetime\n",
    "import gc\n",
    "from typing import Tuple\n",
    "\n",
    "# import data manipulation libraries\n",
    "import numpy as np\n",
    "import pandas as pd\n",
    "import xarray as xr\n",
    "import geopandas as gpd\n",
    "from shapely.geometry import Polygon\n",
    "\n",
    "# import hyrivers libraries to access data\n",
    "import pydaymet\n",
    "import py3dep"
   ]
  },
  {
   "cell_type": "markdown",
   "id": "38b8c678-cfc3-41e7-83a6-076697f5d168",
   "metadata": {},
   "source": [
    "# Pull in data"
   ]
  },
  {
   "cell_type": "markdown",
   "id": "ca143aee-7bba-4ae4-b7f9-d81ef64ee52f",
   "metadata": {},
   "source": [
    "## Define temporal/spatial AOI"
   ]
  },
  {
   "cell_type": "code",
   "execution_count": 105,
   "id": "3969dea8-c11e-4ad3-968d-1c813edac700",
   "metadata": {},
   "outputs": [],
   "source": [
    "# define a state to use data from\n",
    "STATE = 'pennsylvania'\n",
    "\n",
    "# define a date range to pull daily values from - i.e. (str) '2005-01-25'\n",
    "start = '2016-01-01'\n",
    "end = '2021-12-31'\n",
    "\n",
    "# covnert to datetime\n",
    "start_dt = datetime.datetime.strptime(date_range[0], '%Y-%m-%d')\n",
    "end_dt = datetime.datetime.strptime(date_range[-1], '%Y-%m-%d')\n",
    "date_range = (start_dt, end_dt)"
   ]
  },
  {
   "cell_type": "code",
   "execution_count": 106,
   "id": "a982170d-4098-437f-8491-3d2c1f802105",
   "metadata": {},
   "outputs": [],
   "source": [
    "def get_state_bbox(\n",
    "    state_name: str,\n",
    "        ) -> Tuple[float, float, float, float]:\n",
    "    \"\"\"\n",
    "    Get the bounding box of a US state in EPSG4326 given it's name\n",
    "    :param place: (str) a valid state name in english.\n",
    "    :returns: (tuple) a tuple w/ coordinates as floats i.e.,\n",
    "        [[11.777, 53.7253321, -70.2695876, 7.2274985]].\n",
    "    \"\"\"\n",
    "    # create url to pull openstreetmap data\n",
    "    url_prefix = 'http://nominatim.openstreetmap.org/search?state='\n",
    "\n",
    "    url = '{0}{1}{2}'.format(url_prefix, state_name.lower(), '&format=json&polygon=0')\n",
    "    response = requests.get(url).json()[0]\n",
    "\n",
    "    lst = response['boundingbox']\n",
    "    coors = [float(i) for i in lst]\n",
    "    return {\n",
    "        'xmin': coors[-2],\n",
    "        'xmax': coors[-1],\n",
    "        'ymin': coors[0],\n",
    "        'ymax': coors[1],\n",
    "        }"
   ]
  },
  {
   "cell_type": "code",
   "execution_count": 107,
   "id": "959912f8-f13c-4e62-bebe-4a907a63f249",
   "metadata": {},
   "outputs": [
    {
     "data": {
      "text/plain": [
       "{'xmin': -80.5210833,\n",
       " 'xmax': -74.689672,\n",
       " 'ymin': 39.7197662,\n",
       " 'ymax': 42.5146891}"
      ]
     },
     "metadata": {},
     "output_type": "display_data"
    },
    {
     "name": "stdout",
     "output_type": "stream",
     "text": [
      "CPU times: total: 15.6 ms\n",
      "Wall time: 492 ms\n"
     ]
    }
   ],
   "source": [
    "%%time\n",
    "bbox_dict = get_state_bbox(STATE)\n",
    "display(bbox_dict)"
   ]
  },
  {
   "cell_type": "markdown",
   "id": "520568b9-a6b1-46c4-851c-4b2e8a54671d",
   "metadata": {},
   "source": [
    "### Build a dictionary to map state names to FIPs codes"
   ]
  },
  {
   "cell_type": "code",
   "execution_count": 108,
   "id": "e9e8f381-9cb0-433f-bd47-84bc64a7e2cc",
   "metadata": {},
   "outputs": [
    {
     "data": {
      "text/plain": [
       "{'alabama': '01',\n",
       " 'alaska': '02',\n",
       " 'arizona': '04',\n",
       " 'arkansas': '05',\n",
       " 'california': '06',\n",
       " 'louisiana': '22',\n",
       " 'kentucky': '21',\n",
       " 'colorado': '08',\n",
       " 'connecticut': '09',\n",
       " 'delaware': '10',\n",
       " 'district of columbia': '11',\n",
       " 'florida': '12',\n",
       " 'georgia': '13',\n",
       " 'hawaii': '15',\n",
       " 'idaho': '16',\n",
       " 'illinois': '17',\n",
       " 'indiana': '18',\n",
       " 'iowa': '19',\n",
       " 'kansas': '20',\n",
       " 'maine': '23',\n",
       " 'maryland': '24',\n",
       " 'massachusetts': '25',\n",
       " 'michigan': '26',\n",
       " 'minnesota': '27',\n",
       " 'mississippi': '28',\n",
       " 'missouri': '29',\n",
       " 'montana': '30',\n",
       " 'nebraska': '31',\n",
       " 'nevada': '32',\n",
       " 'new hampshire': '33',\n",
       " 'new jersey': '34',\n",
       " 'new mexico': '35',\n",
       " 'new york': '36',\n",
       " 'north carolina': '37',\n",
       " 'north dakota': '38',\n",
       " 'ohio': '39',\n",
       " 'oklahoma': '40',\n",
       " 'oregon': '41',\n",
       " 'pennsylvania': '42',\n",
       " 'rhode island': '44',\n",
       " 'south carolina': '45',\n",
       " 'south dakota': '46',\n",
       " 'tennessee': '47',\n",
       " 'texas': '48',\n",
       " 'utah': '49',\n",
       " 'vermont': '50',\n",
       " 'virginia': '51',\n",
       " 'washington': '53',\n",
       " 'west virginia': '54',\n",
       " 'wisconsin': '55',\n",
       " 'wyoming': '56',\n",
       " 'puerto rico': '72'}"
      ]
     },
     "metadata": {},
     "output_type": "display_data"
    }
   ],
   "source": [
    "# use the census api to get state names as a list of lists\n",
    "list_of_pairs = list(\n",
    "    requests.get(\n",
    "        r'https://api.census.gov/data/2010/dec/sf1?get=NAME&for=state:*'\n",
    "    ).json()\n",
    ")\n",
    "\n",
    "state_fips_dict = {}\n",
    "for pair in list_of_pairs:\n",
    "    if pair[0] != 'NAME': state_fips_dict[pair[0].lower()] = str(pair[-1])\n",
    "display(state_fips_dict)"
   ]
  },
  {
   "cell_type": "markdown",
   "id": "134206ee-5d4b-4e32-b912-dbfa100e7609",
   "metadata": {},
   "source": [
    "## Gather daily precipitation gage data\n",
    "**Note:** Move this to `/access_data/` if it is nicely done."
   ]
  },
  {
   "cell_type": "markdown",
   "id": "144370f9-2f77-432c-aae4-450f9dec0078",
   "metadata": {},
   "source": [
    "### Find valid stations"
   ]
  },
  {
   "cell_type": "code",
   "execution_count": 129,
   "id": "1ee94803-cc17-4863-ac6c-949ab4804006",
   "metadata": {},
   "outputs": [],
   "source": [
    "def validate_date(\n",
    "    response_dict: dict,\n",
    "    date_range: Tuple[datetime.datetime, datetime.datetime],\n",
    "    str_format: str = '%Y-%m-%d',\n",
    "        ) -> bool:\n",
    "    # get station date range\n",
    "    min_date = datetime.datetime.strptime(response_dict['mindate'], str_format)\n",
    "    max_date = datetime.datetime.strptime(response_dict['maxdate'], str_format)\n",
    "\n",
    "    if min_date <= date_range[0]:\n",
    "        if max_date >= date_range[-1]:\n",
    "            return True\n",
    "    else:\n",
    "        return False"
   ]
  },
  {
   "cell_type": "code",
   "execution_count": 252,
   "id": "2ccebd46-cf97-4ae3-b029-7f9a795fe715",
   "metadata": {},
   "outputs": [
    {
     "name": "stdout",
     "output_type": "stream",
     "text": [
      "Fetching precipitation stations for state=pennsylvania\n",
      "1000 precipitation stations total in pennsylvania\n",
      "208 precipitation stations with valid min/max date ranges\n",
      "CPU times: total: 15.6 ms\n",
      "Wall time: 942 ms\n"
     ]
    },
    {
     "data": {
      "text/html": [
       "<div>\n",
       "<style scoped>\n",
       "    .dataframe tbody tr th:only-of-type {\n",
       "        vertical-align: middle;\n",
       "    }\n",
       "\n",
       "    .dataframe tbody tr th {\n",
       "        vertical-align: top;\n",
       "    }\n",
       "\n",
       "    .dataframe thead th {\n",
       "        text-align: right;\n",
       "    }\n",
       "</style>\n",
       "<table border=\"1\" class=\"dataframe\">\n",
       "  <thead>\n",
       "    <tr style=\"text-align: right;\">\n",
       "      <th></th>\n",
       "      <th>elevation_m</th>\n",
       "      <th>mindate</th>\n",
       "      <th>maxdate</th>\n",
       "      <th>latitude</th>\n",
       "      <th>name</th>\n",
       "      <th>datacoverage</th>\n",
       "      <th>elevationUnit</th>\n",
       "      <th>longitude</th>\n",
       "    </tr>\n",
       "    <tr>\n",
       "      <th>station_id</th>\n",
       "      <th></th>\n",
       "      <th></th>\n",
       "      <th></th>\n",
       "      <th></th>\n",
       "      <th></th>\n",
       "      <th></th>\n",
       "      <th></th>\n",
       "      <th></th>\n",
       "    </tr>\n",
       "  </thead>\n",
       "  <tbody>\n",
       "    <tr>\n",
       "      <th>GHCND:US1PAAD0002</th>\n",
       "      <td>139.0</td>\n",
       "      <td>2007-05-20</td>\n",
       "      <td>2022-11-14</td>\n",
       "      <td>39.919185</td>\n",
       "      <td>ABBOTTSTOWN 2.4 N, PA US</td>\n",
       "      <td>0.8369</td>\n",
       "      <td>METERS</td>\n",
       "      <td>-76.989416</td>\n",
       "    </tr>\n",
       "    <tr>\n",
       "      <th>GHCND:US1PAAD0003</th>\n",
       "      <td>189.6</td>\n",
       "      <td>1998-06-17</td>\n",
       "      <td>2022-11-12</td>\n",
       "      <td>40.001389</td>\n",
       "      <td>YORK SPRINGS 0.7 SE, PA US</td>\n",
       "      <td>0.5041</td>\n",
       "      <td>METERS</td>\n",
       "      <td>-77.108889</td>\n",
       "    </tr>\n",
       "    <tr>\n",
       "      <th>GHCND:US1PAAD0006</th>\n",
       "      <td>360.6</td>\n",
       "      <td>2012-07-08</td>\n",
       "      <td>2022-11-13</td>\n",
       "      <td>39.889600</td>\n",
       "      <td>ORRTANNA 3.2 NNW, PA US</td>\n",
       "      <td>0.8019</td>\n",
       "      <td>METERS</td>\n",
       "      <td>-77.375600</td>\n",
       "    </tr>\n",
       "    <tr>\n",
       "      <th>GHCND:US1PAAD0008</th>\n",
       "      <td>183.5</td>\n",
       "      <td>2012-08-19</td>\n",
       "      <td>2022-11-13</td>\n",
       "      <td>39.801061</td>\n",
       "      <td>FAIRFIELD 1.0 NNE, PA US</td>\n",
       "      <td>0.8296</td>\n",
       "      <td>METERS</td>\n",
       "      <td>-77.360635</td>\n",
       "    </tr>\n",
       "    <tr>\n",
       "      <th>GHCND:US1PAAD0011</th>\n",
       "      <td>233.2</td>\n",
       "      <td>2012-08-25</td>\n",
       "      <td>2022-11-14</td>\n",
       "      <td>39.919780</td>\n",
       "      <td>BIGLERVILLE 3.0 WSW, PA US</td>\n",
       "      <td>0.8144</td>\n",
       "      <td>METERS</td>\n",
       "      <td>-77.301310</td>\n",
       "    </tr>\n",
       "  </tbody>\n",
       "</table>\n",
       "</div>"
      ],
      "text/plain": [
       "                   elevation_m     mindate     maxdate   latitude  \\\n",
       "station_id                                                          \n",
       "GHCND:US1PAAD0002        139.0  2007-05-20  2022-11-14  39.919185   \n",
       "GHCND:US1PAAD0003        189.6  1998-06-17  2022-11-12  40.001389   \n",
       "GHCND:US1PAAD0006        360.6  2012-07-08  2022-11-13  39.889600   \n",
       "GHCND:US1PAAD0008        183.5  2012-08-19  2022-11-13  39.801061   \n",
       "GHCND:US1PAAD0011        233.2  2012-08-25  2022-11-14  39.919780   \n",
       "\n",
       "                                         name  datacoverage elevationUnit  \\\n",
       "station_id                                                                  \n",
       "GHCND:US1PAAD0002    ABBOTTSTOWN 2.4 N, PA US        0.8369        METERS   \n",
       "GHCND:US1PAAD0003  YORK SPRINGS 0.7 SE, PA US        0.5041        METERS   \n",
       "GHCND:US1PAAD0006     ORRTANNA 3.2 NNW, PA US        0.8019        METERS   \n",
       "GHCND:US1PAAD0008    FAIRFIELD 1.0 NNE, PA US        0.8296        METERS   \n",
       "GHCND:US1PAAD0011  BIGLERVILLE 3.0 WSW, PA US        0.8144        METERS   \n",
       "\n",
       "                   longitude  \n",
       "station_id                    \n",
       "GHCND:US1PAAD0002 -76.989416  \n",
       "GHCND:US1PAAD0003 -77.108889  \n",
       "GHCND:US1PAAD0006 -77.375600  \n",
       "GHCND:US1PAAD0008 -77.360635  \n",
       "GHCND:US1PAAD0011 -77.301310  "
      ]
     },
     "execution_count": 252,
     "metadata": {},
     "output_type": "execute_result"
    }
   ],
   "source": [
    "%%time\n",
    "base_stations_url = r'https://www.ncei.noaa.gov/cdo-web/api/v2/stations?limit=1000&datasetid=GHCND'\n",
    "state_addition = f'&locationid=FIPS:{state_fips_dict[STATE.lower()]}'\n",
    "\n",
    "print(f'Fetching precipitation stations for state={STATE}')\n",
    "stations_list = list(requests.get(\n",
    "    base_stations_url + state_addition,\n",
    "    headers={'token': 'DSsSMpVbUnklkSjSzeAZFfaNsKsvommI'},\n",
    "    ).json()['results'])\n",
    "print(f'{len(stations_list)} precipitation stations total in {STATE}')\n",
    "stations_list = [i for i in stations_list if validate_date(i, date_range)]\n",
    "print(f'{len(stations_list)} precipitation stations with valid min/max date ranges')\n",
    "\n",
    "# convert to dataframe\n",
    "stations_df = pd.DataFrame.from_records(\n",
    "    stations_list,\n",
    "    index='id',\n",
    "    )\n",
    "stations_df.rename(columns={'elevation': 'elevation_m'}, inplace=True)\n",
    "stations_df.index.name = 'station_id'\n",
    "del stations_list\n",
    "stations_df.head(n=5)"
   ]
  },
  {
   "cell_type": "markdown",
   "id": "958403a5-b613-4af3-bc14-482373870c23",
   "metadata": {},
   "source": [
    "### Access data\n",
    "**NOTE:** Daily data is restricted to a one year range, and record limit is 1000, therefore API calls must be chunked."
   ]
  },
  {
   "cell_type": "code",
   "execution_count": 224,
   "id": "5f92c99a-e5be-448a-8f07-b59a34cd0635",
   "metadata": {},
   "outputs": [
    {
     "data": {
      "text/plain": [
       "[2016, 2017, 2018, 2019, 2020, 2021]"
      ]
     },
     "execution_count": 224,
     "metadata": {},
     "output_type": "execute_result"
    }
   ],
   "source": [
    "years = list(range(start_dt.year, end_dt.year + 1))\n",
    "years"
   ]
  },
  {
   "cell_type": "code",
   "execution_count": 232,
   "id": "44d52899-9193-44b3-b6e3-57a77894b19f",
   "metadata": {},
   "outputs": [
    {
     "name": "stdout",
     "output_type": "stream",
     "text": [
      "Processing year=2016\n",
      "Processing year=2017\n",
      "Processing year=2018\n",
      "Processing year=2019\n",
      "Processing year=2020\n",
      "Processing year=2021\n",
      "CPU times: total: 24.9 s\n",
      "Wall time: 5min 31s\n"
     ]
    }
   ],
   "source": [
    "%%time\n",
    "base_data_url = r'https://www.ncei.noaa.gov/cdo-web/api/v2/data?datasetid=GHCND&limit=1000'\n",
    "\n",
    "data_list = []\n",
    "for year in years:\n",
    "    print(f'Processing year={year}')\n",
    "    for station_id in stations_df.index:\n",
    "        station_id = str(station_id)\n",
    "        url = base_data_url + state_addition + '&datatypeid=PRCP' + \\\n",
    "            f'&stationid={station_id}' + \\\n",
    "            f'&startdate={year}-01-01&enddate={year}-12-31'\n",
    "        response = dict(requests.get(\n",
    "            url,\n",
    "            headers={'token': 'DSsSMpVbUnklkSjSzeAZFfaNsKsvommI'},\n",
    "            ).json())\n",
    "        if 'results' in list(response.keys()): data_list.extend(list(response['results']))\n",
    "    gc.collect()"
   ]
  },
  {
   "cell_type": "code",
   "execution_count": 270,
   "id": "ce3d7022-d2df-455d-a962-924b9cb4846a",
   "metadata": {},
   "outputs": [],
   "source": [
    "# construct a dataframe with all precipitation data\n",
    "precip_df = pd.DataFrame().from_records(\n",
    "    data_list,\n",
    "    index='station',\n",
    "    exclude=['attributes'],\n",
    ")\n",
    "precip_df.rename(columns={'value': 'precip_mm'}, inplace=True)\n",
    "precip_df.drop(columns=['datatype'], inplace=True)\n",
    "precip_df.index.name = 'station_id'"
   ]
  },
  {
   "cell_type": "code",
   "execution_count": 271,
   "id": "13b91592-7ed4-40cd-a3eb-1c2105000e22",
   "metadata": {},
   "outputs": [
    {
     "data": {
      "text/html": [
       "<div>\n",
       "<style scoped>\n",
       "    .dataframe tbody tr th:only-of-type {\n",
       "        vertical-align: middle;\n",
       "    }\n",
       "\n",
       "    .dataframe tbody tr th {\n",
       "        vertical-align: top;\n",
       "    }\n",
       "\n",
       "    .dataframe thead th {\n",
       "        text-align: right;\n",
       "    }\n",
       "</style>\n",
       "<table border=\"1\" class=\"dataframe\">\n",
       "  <thead>\n",
       "    <tr style=\"text-align: right;\">\n",
       "      <th></th>\n",
       "      <th>date</th>\n",
       "      <th>precip_mm</th>\n",
       "    </tr>\n",
       "    <tr>\n",
       "      <th>station_id</th>\n",
       "      <th></th>\n",
       "      <th></th>\n",
       "    </tr>\n",
       "  </thead>\n",
       "  <tbody>\n",
       "    <tr>\n",
       "      <th>GHCND:US1PAAD0002</th>\n",
       "      <td>2016-02-28T00:00:00</td>\n",
       "      <td>0</td>\n",
       "    </tr>\n",
       "    <tr>\n",
       "      <th>GHCND:US1PAAD0002</th>\n",
       "      <td>2016-02-29T00:00:00</td>\n",
       "      <td>0</td>\n",
       "    </tr>\n",
       "    <tr>\n",
       "      <th>GHCND:US1PAAD0002</th>\n",
       "      <td>2016-03-01T00:00:00</td>\n",
       "      <td>0</td>\n",
       "    </tr>\n",
       "    <tr>\n",
       "      <th>GHCND:US1PAAD0002</th>\n",
       "      <td>2016-03-02T00:00:00</td>\n",
       "      <td>3</td>\n",
       "    </tr>\n",
       "    <tr>\n",
       "      <th>GHCND:US1PAAD0002</th>\n",
       "      <td>2016-03-03T00:00:00</td>\n",
       "      <td>0</td>\n",
       "    </tr>\n",
       "    <tr>\n",
       "      <th>...</th>\n",
       "      <td>...</td>\n",
       "      <td>...</td>\n",
       "    </tr>\n",
       "    <tr>\n",
       "      <th>GHCND:USC00363437</th>\n",
       "      <td>2021-11-23T00:00:00</td>\n",
       "      <td>0</td>\n",
       "    </tr>\n",
       "    <tr>\n",
       "      <th>GHCND:USC00363437</th>\n",
       "      <td>2021-11-24T00:00:00</td>\n",
       "      <td>0</td>\n",
       "    </tr>\n",
       "    <tr>\n",
       "      <th>GHCND:USC00363437</th>\n",
       "      <td>2021-11-25T00:00:00</td>\n",
       "      <td>0</td>\n",
       "    </tr>\n",
       "    <tr>\n",
       "      <th>GHCND:USC00363437</th>\n",
       "      <td>2021-11-30T00:00:00</td>\n",
       "      <td>0</td>\n",
       "    </tr>\n",
       "    <tr>\n",
       "      <th>GHCND:USC00363437</th>\n",
       "      <td>2021-12-07T00:00:00</td>\n",
       "      <td>86</td>\n",
       "    </tr>\n",
       "  </tbody>\n",
       "</table>\n",
       "<p>296712 rows × 2 columns</p>\n",
       "</div>"
      ],
      "text/plain": [
       "                                  date  precip_mm\n",
       "station_id                                       \n",
       "GHCND:US1PAAD0002  2016-02-28T00:00:00          0\n",
       "GHCND:US1PAAD0002  2016-02-29T00:00:00          0\n",
       "GHCND:US1PAAD0002  2016-03-01T00:00:00          0\n",
       "GHCND:US1PAAD0002  2016-03-02T00:00:00          3\n",
       "GHCND:US1PAAD0002  2016-03-03T00:00:00          0\n",
       "...                                ...        ...\n",
       "GHCND:USC00363437  2021-11-23T00:00:00          0\n",
       "GHCND:USC00363437  2021-11-24T00:00:00          0\n",
       "GHCND:USC00363437  2021-11-25T00:00:00          0\n",
       "GHCND:USC00363437  2021-11-30T00:00:00          0\n",
       "GHCND:USC00363437  2021-12-07T00:00:00         86\n",
       "\n",
       "[296712 rows x 2 columns]"
      ]
     },
     "execution_count": 271,
     "metadata": {},
     "output_type": "execute_result"
    }
   ],
   "source": [
    "precip_df"
   ]
  },
  {
   "cell_type": "markdown",
   "id": "6494aab5-3139-4dca-a63b-83641dccb017",
   "metadata": {},
   "source": [
    "### Join data to station information"
   ]
  },
  {
   "cell_type": "code",
   "execution_count": 272,
   "id": "591cb8f4-41fe-4f06-bcee-723ac4fccb2e",
   "metadata": {},
   "outputs": [
    {
     "data": {
      "text/html": [
       "<div>\n",
       "<style scoped>\n",
       "    .dataframe tbody tr th:only-of-type {\n",
       "        vertical-align: middle;\n",
       "    }\n",
       "\n",
       "    .dataframe tbody tr th {\n",
       "        vertical-align: top;\n",
       "    }\n",
       "\n",
       "    .dataframe thead th {\n",
       "        text-align: right;\n",
       "    }\n",
       "</style>\n",
       "<table border=\"1\" class=\"dataframe\">\n",
       "  <thead>\n",
       "    <tr style=\"text-align: right;\">\n",
       "      <th></th>\n",
       "      <th>elevation_m</th>\n",
       "      <th>latitude</th>\n",
       "      <th>longitude</th>\n",
       "    </tr>\n",
       "    <tr>\n",
       "      <th>station_id</th>\n",
       "      <th></th>\n",
       "      <th></th>\n",
       "      <th></th>\n",
       "    </tr>\n",
       "  </thead>\n",
       "  <tbody>\n",
       "    <tr>\n",
       "      <th>GHCND:US1PAAD0002</th>\n",
       "      <td>139.0</td>\n",
       "      <td>39.919185</td>\n",
       "      <td>-76.989416</td>\n",
       "    </tr>\n",
       "    <tr>\n",
       "      <th>GHCND:US1PAAD0003</th>\n",
       "      <td>189.6</td>\n",
       "      <td>40.001389</td>\n",
       "      <td>-77.108889</td>\n",
       "    </tr>\n",
       "    <tr>\n",
       "      <th>GHCND:US1PAAD0006</th>\n",
       "      <td>360.6</td>\n",
       "      <td>39.889600</td>\n",
       "      <td>-77.375600</td>\n",
       "    </tr>\n",
       "    <tr>\n",
       "      <th>GHCND:US1PAAD0008</th>\n",
       "      <td>183.5</td>\n",
       "      <td>39.801061</td>\n",
       "      <td>-77.360635</td>\n",
       "    </tr>\n",
       "    <tr>\n",
       "      <th>GHCND:US1PAAD0011</th>\n",
       "      <td>233.2</td>\n",
       "      <td>39.919780</td>\n",
       "      <td>-77.301310</td>\n",
       "    </tr>\n",
       "  </tbody>\n",
       "</table>\n",
       "</div>"
      ],
      "text/plain": [
       "                   elevation_m   latitude  longitude\n",
       "station_id                                          \n",
       "GHCND:US1PAAD0002        139.0  39.919185 -76.989416\n",
       "GHCND:US1PAAD0003        189.6  40.001389 -77.108889\n",
       "GHCND:US1PAAD0006        360.6  39.889600 -77.375600\n",
       "GHCND:US1PAAD0008        183.5  39.801061 -77.360635\n",
       "GHCND:US1PAAD0011        233.2  39.919780 -77.301310"
      ]
     },
     "execution_count": 272,
     "metadata": {},
     "output_type": "execute_result"
    }
   ],
   "source": [
    "station_info_df = stations_df[['elevation_m', 'latitude', 'longitude']]\n",
    "station_info_df.head()"
   ]
  },
  {
   "cell_type": "code",
   "execution_count": 277,
   "id": "49ed5e4c-508d-465e-a2d4-a396e7035a95",
   "metadata": {},
   "outputs": [
    {
     "name": "stdout",
     "output_type": "stream",
     "text": [
      "<class 'pandas.core.frame.DataFrame'>\n",
      "Index: 296712 entries, GHCND:US1PAAD0002 to GHCND:USC00363437\n",
      "Data columns (total 5 columns):\n",
      " #   Column       Non-Null Count   Dtype         \n",
      "---  ------       --------------   -----         \n",
      " 0   date         296712 non-null  datetime64[ns]\n",
      " 1   precip_mm    296712 non-null  int64         \n",
      " 2   elevation_m  296712 non-null  float64       \n",
      " 3   latitude     296712 non-null  float64       \n",
      " 4   longitude    296712 non-null  float64       \n",
      "dtypes: datetime64[ns](1), float64(3), int64(1)\n",
      "memory usage: 21.6+ MB\n"
     ]
    },
    {
     "data": {
      "text/html": [
       "<div>\n",
       "<style scoped>\n",
       "    .dataframe tbody tr th:only-of-type {\n",
       "        vertical-align: middle;\n",
       "    }\n",
       "\n",
       "    .dataframe tbody tr th {\n",
       "        vertical-align: top;\n",
       "    }\n",
       "\n",
       "    .dataframe thead th {\n",
       "        text-align: right;\n",
       "    }\n",
       "</style>\n",
       "<table border=\"1\" class=\"dataframe\">\n",
       "  <thead>\n",
       "    <tr style=\"text-align: right;\">\n",
       "      <th></th>\n",
       "      <th>date</th>\n",
       "      <th>precip_mm</th>\n",
       "      <th>elevation_m</th>\n",
       "      <th>latitude</th>\n",
       "      <th>longitude</th>\n",
       "    </tr>\n",
       "    <tr>\n",
       "      <th>station_id</th>\n",
       "      <th></th>\n",
       "      <th></th>\n",
       "      <th></th>\n",
       "      <th></th>\n",
       "      <th></th>\n",
       "    </tr>\n",
       "  </thead>\n",
       "  <tbody>\n",
       "    <tr>\n",
       "      <th>GHCND:US1PAAD0002</th>\n",
       "      <td>2016-02-28</td>\n",
       "      <td>0</td>\n",
       "      <td>139.0</td>\n",
       "      <td>39.919185</td>\n",
       "      <td>-76.989416</td>\n",
       "    </tr>\n",
       "    <tr>\n",
       "      <th>GHCND:US1PAAD0002</th>\n",
       "      <td>2016-02-29</td>\n",
       "      <td>0</td>\n",
       "      <td>139.0</td>\n",
       "      <td>39.919185</td>\n",
       "      <td>-76.989416</td>\n",
       "    </tr>\n",
       "    <tr>\n",
       "      <th>GHCND:US1PAAD0002</th>\n",
       "      <td>2016-03-01</td>\n",
       "      <td>0</td>\n",
       "      <td>139.0</td>\n",
       "      <td>39.919185</td>\n",
       "      <td>-76.989416</td>\n",
       "    </tr>\n",
       "    <tr>\n",
       "      <th>GHCND:US1PAAD0002</th>\n",
       "      <td>2016-03-02</td>\n",
       "      <td>3</td>\n",
       "      <td>139.0</td>\n",
       "      <td>39.919185</td>\n",
       "      <td>-76.989416</td>\n",
       "    </tr>\n",
       "    <tr>\n",
       "      <th>GHCND:US1PAAD0002</th>\n",
       "      <td>2016-03-03</td>\n",
       "      <td>0</td>\n",
       "      <td>139.0</td>\n",
       "      <td>39.919185</td>\n",
       "      <td>-76.989416</td>\n",
       "    </tr>\n",
       "  </tbody>\n",
       "</table>\n",
       "</div>"
      ],
      "text/plain": [
       "                        date  precip_mm  elevation_m   latitude  longitude\n",
       "station_id                                                                \n",
       "GHCND:US1PAAD0002 2016-02-28          0        139.0  39.919185 -76.989416\n",
       "GHCND:US1PAAD0002 2016-02-29          0        139.0  39.919185 -76.989416\n",
       "GHCND:US1PAAD0002 2016-03-01          0        139.0  39.919185 -76.989416\n",
       "GHCND:US1PAAD0002 2016-03-02          3        139.0  39.919185 -76.989416\n",
       "GHCND:US1PAAD0002 2016-03-03          0        139.0  39.919185 -76.989416"
      ]
     },
     "execution_count": 277,
     "metadata": {},
     "output_type": "execute_result"
    }
   ],
   "source": [
    "try:\n",
    "    precip_df = precip_df.join(station_info_df)\n",
    "except ValueError:\n",
    "    pass\n",
    "precip_df['date'] = pd.to_datetime(precip_df['date'])\n",
    "precip_df.info()\n",
    "precip_df.head()"
   ]
  },
  {
   "cell_type": "code",
   "execution_count": 280,
   "id": "d27454a8-6fee-48a0-9a51-779c9f3afde7",
   "metadata": {},
   "outputs": [
    {
     "data": {
      "text/plain": [
       "WindowsPath('C:/Users/xrnogueira/Documents/EnviroDataScience/machine_learning/analysis_notebooks')"
      ]
     },
     "execution_count": 280,
     "metadata": {},
     "output_type": "execute_result"
    }
   ],
   "source": [
    "from pathlib import Path\n",
    "Path.cwd()"
   ]
  },
  {
   "cell_type": "markdown",
   "id": "bf6d6fd9-f18a-494a-ad72-44374b5d760c",
   "metadata": {},
   "source": [
    "## Pull in elevation data and build features\n",
    "Here we do the following to calculate relative elevation `z_rel` compared to some radius `var:relative_z_radius`.\n",
    "1. Resample our 30m 3DEP to 10, 25, and 50km using a mean and std algo.\n",
    "2. Next us use nearest neighbors algo to resample both the mean and std back down to 30m.\n",
    "2. With an elevation value, the regional cell's mean, and the cell's regional std we can calculate a z-score for each cell.\n",
    "4. Finally we same this z-score raster at each precipitation gage point to create the `z_rel` column in our feature table."
   ]
  },
  {
   "cell_type": "code",
   "execution_count": null,
   "id": "feccb966-a730-47a9-8f44-adde4cf2b4bb",
   "metadata": {},
   "outputs": [],
   "source": []
  },
  {
   "cell_type": "markdown",
   "id": "d00a23cc-691d-4d3a-8c8f-d54cc4ba04ff",
   "metadata": {},
   "source": [
    "## Pull in Daymet data and resample to match elevation data"
   ]
  },
  {
   "cell_type": "code",
   "execution_count": null,
   "id": "f6bbb45b-a444-4a9d-b45b-fc33e51e1f78",
   "metadata": {},
   "outputs": [],
   "source": []
  },
  {
   "cell_type": "markdown",
   "id": "2b0dca41-db9e-44e8-b6e3-2f3c1c500740",
   "metadata": {},
   "source": [
    "# Build elevation featyres"
   ]
  }
 ],
 "metadata": {
  "kernelspec": {
   "display_name": "Python 3 (ipykernel)",
   "language": "python",
   "name": "python3"
  },
  "language_info": {
   "codemirror_mode": {
    "name": "ipython",
    "version": 3
   },
   "file_extension": ".py",
   "mimetype": "text/x-python",
   "name": "python",
   "nbconvert_exporter": "python",
   "pygments_lexer": "ipython3",
   "version": "3.9.13"
  },
  "toc-autonumbering": true
 },
 "nbformat": 4,
 "nbformat_minor": 5
}

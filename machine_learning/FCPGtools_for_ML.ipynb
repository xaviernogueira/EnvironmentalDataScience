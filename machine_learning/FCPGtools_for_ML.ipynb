{
 "cells": [
  {
   "cell_type": "markdown",
   "id": "ff2248df-ba13-408c-a6a7-cf9cedf2241f",
   "metadata": {},
   "source": [
    "## Example 5 - Prepare a Machine Learning training data set\n",
    "Finally we demonstrate the full power of the Version 2.0 `FCPGtools` by following a example workflow to create a machine learning training dataset. The goal of this example is to demonstrate how FCPG values, as well as upstream min/max parameter values, can be queried by coordinates across the time dimension.\n",
    "\n",
    "1. We begin by reading DAYMET air temperature and precipitation data for an entire year directly into a `xarray.DataArray` using the 3rd party [`pydaymet`](https://hyriver.readthedocs.io/en/latest/autoapi/pydaymet/pydaymet/index.html) library. \n",
    "\n",
    "2. Next we can read in a few imaginary CSV files storing flow gage station data where each row has a unique `station_id`, coordinates (`lat`/`long` columns), and daily mean flow values (`daily_mean_flow`).\n",
    "   * Note: In a real-world workflow you will need to either convert the Coordainte Reference System (CRS) of the gage station coordinates, or use `reproject_raster()` to convert the output FCPG's CRS. For this example we will imagine that the CRSs are already aligned.\n",
    "\n",
    "3. ADD MORE\n",
    "\n",
    "**We can/should leverage `xarray.DataSet` to train a flow model, which can then be applied along the masked streams!** \n",
    "\n",
    "**Awesome demo!**"
   ]
  },
  {
   "cell_type": "code",
   "execution_count": 4,
   "id": "4f229aef-4cf1-444d-8da6-c6722c802ba9",
   "metadata": {},
   "outputs": [],
   "source": [
    "# import non-fcpgtools dependencies\n",
    "import xarray as xr\n",
    "import geopandas as gpd\n",
    "import numpy as np\n",
    "import pydaymet\n",
    "from pathlib import Path\n",
    "from importlib import reload"
   ]
  },
  {
   "cell_type": "code",
   "execution_count": 1,
   "id": "d402a884-b2f0-4afb-8289-b47f3135c224",
   "metadata": {},
   "outputs": [
    {
     "name": "stdout",
     "output_type": "stream",
     "text": [
      "path exists, skipping C:\\Users\\xrnogueira\\Documents\\FCPGtools\\src\n",
      "completed operation for: C:\\Users\\xrnogueira\\Documents\\FCPGtools\\src\n"
     ]
    }
   ],
   "source": [
    "# import fcpgtools using conda-develop\n",
    "!conda-develop C:\\\\Users\\\\xrnogueira\\\\Documents\\\\FCPGtools\\\\src"
   ]
  },
  {
   "cell_type": "code",
   "execution_count": 2,
   "id": "fb19c4b3-f75c-4bde-b7da-e075e56e8639",
   "metadata": {},
   "outputs": [],
   "source": [
    "import fcpgtools\n",
    "from fcpgtools import utilities"
   ]
  },
  {
   "cell_type": "code",
   "execution_count": 5,
   "id": "eced8175-76f9-4314-af50-53438861b746",
   "metadata": {},
   "outputs": [
    {
     "name": "stdout",
     "output_type": "stream",
     "text": [
      "var:examples_dir = C:\\Users\\xrnogueira\\Documents\\FCPGtools\\examples\n"
     ]
    }
   ],
   "source": [
    "# get all necessary paths for in/out data\n",
    "examples_dir = str(Path.cwd())\n",
    "if 'FCPGtools' in examples_dir:\n",
    "    examples_dir = Path(examples_dir.split('FCPGtools', 2)[0] + 'FCPGtools\\\\examples')\n",
    "    print(f'var:examples_dir = {examples_dir}')\n",
    "else:\n",
    "    del examples_dir\n",
    "    print('ERROR: Cant find /FCPGtools/examples!')"
   ]
  },
  {
   "cell_type": "code",
   "execution_count": 6,
   "id": "8e848765-70dc-49d7-9c51-c52a7136ffa2",
   "metadata": {},
   "outputs": [
    {
     "name": "stdout",
     "output_type": "stream",
     "text": [
      "Variable in_data_dir accesses C:\\Users\\xrnogueira\\Documents\\FCPGtools\\examples\\in_data\n",
      "Variable in_data_dir accesses C:\\Users\\xrnogueira\\Documents\\FCPGtools\\examples\\out_data\n"
     ]
    }
   ],
   "source": [
    "# get path to input example fata\n",
    "in_data_dir = examples_dir / Path('in_data')\n",
    "print(f'Variable in_data_dir accesses {in_data_dir}')\n",
    "\n",
    "# make output path if necessary\n",
    "out_data_dir = examples_dir / Path('out_data')\n",
    "if not out_data_dir.exists(): out_data_dir.mkdir()\n",
    "print(f'Variable in_data_dir accesses {out_data_dir}')"
   ]
  }
 ],
 "metadata": {
  "kernelspec": {
   "display_name": "Python 3 (ipykernel)",
   "language": "python",
   "name": "python3"
  },
  "language_info": {
   "codemirror_mode": {
    "name": "ipython",
    "version": 3
   },
   "file_extension": ".py",
   "mimetype": "text/x-python",
   "name": "python",
   "nbconvert_exporter": "python",
   "pygments_lexer": "ipython3",
   "version": "3.9.15"
  }
 },
 "nbformat": 4,
 "nbformat_minor": 5
}

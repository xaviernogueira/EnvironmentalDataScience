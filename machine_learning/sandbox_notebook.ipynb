{
 "cells": [
  {
   "cell_type": "code",
   "execution_count": 8,
   "metadata": {},
   "outputs": [],
   "source": [
    "import numpy as np\n",
    "import pandas as pd\n",
    "import catboost as cb"
   ]
  },
  {
   "cell_type": "code",
   "execution_count": 9,
   "metadata": {},
   "outputs": [],
   "source": [
    "from catboost_ml import CatBoostML"
   ]
  },
  {
   "cell_type": "code",
   "execution_count": 10,
   "metadata": {},
   "outputs": [],
   "source": [
    "train_data = np.random.randint(0, \n",
    "                               100, \n",
    "                               size=(100, 10))\n",
    "train_targets = np.random.randint(0, \n",
    "                                2, \n",
    "                                size=(100))\n",
    "test_data = np.random.randint(0, \n",
    "                                100, \n",
    "                                size=(50, 10))"
   ]
  },
  {
   "cell_type": "code",
   "execution_count": 11,
   "metadata": {},
   "outputs": [],
   "source": [
    "df_train = ''\n",
    "df_targets = ''\n",
    "df_test = ''"
   ]
  },
  {
   "cell_type": "code",
   "execution_count": 12,
   "metadata": {},
   "outputs": [
    {
     "name": "stdout",
     "output_type": "stream",
     "text": [
      "Train data np array shape: (100, 10)\n",
      "Train targets np array shape: (100,)\n",
      "Test data np array shape: (50, 10)\n"
     ]
    }
   ],
   "source": [
    "print(f'Train data np array shape: {train_data.shape}')\n",
    "print(f'Train targets np array shape: {train_targets.shape}')\n",
    "print(f'Test data np array shape: {test_data.shape}')"
   ]
  },
  {
   "cell_type": "code",
   "execution_count": 13,
   "metadata": {},
   "outputs": [],
   "source": [
    "from sklearn.model_selection import train_test_split"
   ]
  },
  {
   "cell_type": "code",
   "execution_count": 15,
   "metadata": {},
   "outputs": [
    {
     "name": "stdout",
     "output_type": "stream",
     "text": [
      "10 K-Fold performance evaluation...\n"
     ]
    },
    {
     "ename": "CatBoostError",
     "evalue": "C:/Program Files (x86)/Go Agent/pipelines/BuildMaster/catboost.git/catboost/private/libs/target/data_providers.cpp:612: Currently only multi-regression, multilabel and survival objectives work with multidimensional target",
     "output_type": "error",
     "traceback": [
      "\u001b[1;31m---------------------------------------------------------------------------\u001b[0m",
      "\u001b[1;31mCatBoostError\u001b[0m                             Traceback (most recent call last)",
      "Cell \u001b[1;32mIn [15], line 1\u001b[0m\n\u001b[1;32m----> 1\u001b[0m trained_model \u001b[39m=\u001b[39m CatBoostML()\u001b[39m.\u001b[39mtrain_regressor(features\u001b[39m=\u001b[39mtrain_data, target\u001b[39m=\u001b[39mtrain_targets,\n\u001b[0;32m      2\u001b[0m k_fold_evaluation\u001b[39m=\u001b[39m\u001b[39mTrue\u001b[39;00m)\n",
      "File \u001b[1;32mc:\\Users\\xrnogueira\\Documents\\EnviroDataScience\\machine_learning\\catboost_ml.py:213\u001b[0m, in \u001b[0;36mCatBoostML.train_regressor\u001b[1;34m(self, features, target, init_model, regressor_params, k_fold_evaluation, evaluation_kfolds, verbose)\u001b[0m\n\u001b[0;32m    211\u001b[0m \u001b[39mif\u001b[39;00m k_fold_evaluation:\n\u001b[0;32m    212\u001b[0m     \u001b[39mprint\u001b[39m(\u001b[39mf\u001b[39m\u001b[39m'\u001b[39m\u001b[39m{\u001b[39;00mevaluation_kfolds\u001b[39m}\u001b[39;00m\u001b[39m K-Fold performance evaluation...\u001b[39m\u001b[39m'\u001b[39m)\n\u001b[1;32m--> 213\u001b[0m     performance_dict \u001b[39m=\u001b[39m \u001b[39mself\u001b[39;49m\u001b[39m.\u001b[39;49mregression_kfold_evaluation(features,\n\u001b[0;32m    214\u001b[0m                                                     target,\n\u001b[0;32m    215\u001b[0m                                                     regressor_params,\n\u001b[0;32m    216\u001b[0m                                                     k_folds\u001b[39m=\u001b[39;49mevaluation_kfolds)\n\u001b[0;32m    217\u001b[0m     \u001b[39mprint\u001b[39m(\u001b[39mf\u001b[39m\u001b[39m'\u001b[39m\u001b[39mDone! \u001b[39m\u001b[39m{\u001b[39;00mevaluation_kfolds\u001b[39m}\u001b[39;00m\u001b[39m K-Fold perfomance metrics: \u001b[39m\u001b[39m{\u001b[39;00mperformance_dict\u001b[39m}\u001b[39;00m\u001b[39m'\u001b[39m)\n\u001b[0;32m    219\u001b[0m \u001b[39m# make final model and fit to the complete training dataset\u001b[39;00m\n",
      "File \u001b[1;32mc:\\Users\\xrnogueira\\Documents\\EnviroDataScience\\machine_learning\\catboost_ml.py:146\u001b[0m, in \u001b[0;36mCatBoostML.regression_kfold_evaluation\u001b[1;34m(self, features, target, regressor_params, k_folds)\u001b[0m\n\u001b[0;32m    144\u001b[0m \u001b[39m# build regression or classification model (uses Logloss optimization for binary classification data and Accuracy eval_metric)\u001b[39;00m\n\u001b[0;32m    145\u001b[0m cb_model \u001b[39m=\u001b[39m cb\u001b[39m.\u001b[39mto_regressor(cb\u001b[39m.\u001b[39mCatBoost(params\u001b[39m=\u001b[39mregressor_params))\n\u001b[1;32m--> 146\u001b[0m cb_model \u001b[39m=\u001b[39m cb_model\u001b[39m.\u001b[39;49mfit(X_train, y_train, verbose\u001b[39m=\u001b[39;49m\u001b[39mFalse\u001b[39;49;00m)\n\u001b[0;32m    148\u001b[0m \u001b[39m# make a prediction using the training data\u001b[39;00m\n\u001b[0;32m    149\u001b[0m train_preds \u001b[39m=\u001b[39m cb_model\u001b[39m.\u001b[39mpredict(X_train)\n",
      "File \u001b[1;32mc:\\Users\\xrnogueira\\Miniconda3\\envs\\enviro_data\\lib\\site-packages\\catboost\\core.py:5730\u001b[0m, in \u001b[0;36mCatBoostRegressor.fit\u001b[1;34m(self, X, y, cat_features, text_features, embedding_features, sample_weight, baseline, use_best_model, eval_set, verbose, logging_level, plot, plot_file, column_description, verbose_eval, metric_period, silent, early_stopping_rounds, save_snapshot, snapshot_file, snapshot_interval, init_model, callbacks, log_cout, log_cerr)\u001b[0m\n\u001b[0;32m   5727\u001b[0m \u001b[39mif\u001b[39;00m \u001b[39m'\u001b[39m\u001b[39mloss_function\u001b[39m\u001b[39m'\u001b[39m \u001b[39min\u001b[39;00m params:\n\u001b[0;32m   5728\u001b[0m     CatBoostRegressor\u001b[39m.\u001b[39m_check_is_compatible_loss(params[\u001b[39m'\u001b[39m\u001b[39mloss_function\u001b[39m\u001b[39m'\u001b[39m])\n\u001b[1;32m-> 5730\u001b[0m \u001b[39mreturn\u001b[39;00m \u001b[39mself\u001b[39;49m\u001b[39m.\u001b[39;49m_fit(X, y, cat_features, text_features, embedding_features, \u001b[39mNone\u001b[39;49;00m, sample_weight, \u001b[39mNone\u001b[39;49;00m, \u001b[39mNone\u001b[39;49;00m, \u001b[39mNone\u001b[39;49;00m, \u001b[39mNone\u001b[39;49;00m, baseline,\n\u001b[0;32m   5731\u001b[0m                  use_best_model, eval_set, verbose, logging_level, plot, plot_file, column_description,\n\u001b[0;32m   5732\u001b[0m                  verbose_eval, metric_period, silent, early_stopping_rounds,\n\u001b[0;32m   5733\u001b[0m                  save_snapshot, snapshot_file, snapshot_interval, init_model, callbacks, log_cout, log_cerr)\n",
      "File \u001b[1;32mc:\\Users\\xrnogueira\\Miniconda3\\envs\\enviro_data\\lib\\site-packages\\catboost\\core.py:2355\u001b[0m, in \u001b[0;36mCatBoost._fit\u001b[1;34m(self, X, y, cat_features, text_features, embedding_features, pairs, sample_weight, group_id, group_weight, subgroup_id, pairs_weight, baseline, use_best_model, eval_set, verbose, logging_level, plot, plot_file, column_description, verbose_eval, metric_period, silent, early_stopping_rounds, save_snapshot, snapshot_file, snapshot_interval, init_model, callbacks, log_cout, log_cerr)\u001b[0m\n\u001b[0;32m   2351\u001b[0m allow_clear_pool \u001b[39m=\u001b[39m train_params[\u001b[39m\"\u001b[39m\u001b[39mallow_clear_pool\u001b[39m\u001b[39m\"\u001b[39m]\n\u001b[0;32m   2353\u001b[0m \u001b[39mwith\u001b[39;00m log_fixup(log_cout, log_cerr), \\\n\u001b[0;32m   2354\u001b[0m     plot_wrapper(plot, plot_file, \u001b[39m'\u001b[39m\u001b[39mTraining plots\u001b[39m\u001b[39m'\u001b[39m, [_get_train_dir(\u001b[39mself\u001b[39m\u001b[39m.\u001b[39mget_params())]):\n\u001b[1;32m-> 2355\u001b[0m     \u001b[39mself\u001b[39;49m\u001b[39m.\u001b[39;49m_train(\n\u001b[0;32m   2356\u001b[0m         train_pool,\n\u001b[0;32m   2357\u001b[0m         train_params[\u001b[39m\"\u001b[39;49m\u001b[39meval_sets\u001b[39;49m\u001b[39m\"\u001b[39;49m],\n\u001b[0;32m   2358\u001b[0m         params,\n\u001b[0;32m   2359\u001b[0m         allow_clear_pool,\n\u001b[0;32m   2360\u001b[0m         train_params[\u001b[39m\"\u001b[39;49m\u001b[39minit_model\u001b[39;49m\u001b[39m\"\u001b[39;49m]\n\u001b[0;32m   2361\u001b[0m     )\n\u001b[0;32m   2363\u001b[0m \u001b[39m# Have property feature_importance possibly set\u001b[39;00m\n\u001b[0;32m   2364\u001b[0m loss \u001b[39m=\u001b[39m \u001b[39mself\u001b[39m\u001b[39m.\u001b[39m_object\u001b[39m.\u001b[39m_get_loss_function_name()\n",
      "File \u001b[1;32mc:\\Users\\xrnogueira\\Miniconda3\\envs\\enviro_data\\lib\\site-packages\\catboost\\core.py:1759\u001b[0m, in \u001b[0;36m_CatBoostBase._train\u001b[1;34m(self, train_pool, test_pool, params, allow_clear_pool, init_model)\u001b[0m\n\u001b[0;32m   1758\u001b[0m \u001b[39mdef\u001b[39;00m \u001b[39m_train\u001b[39m(\u001b[39mself\u001b[39m, train_pool, test_pool, params, allow_clear_pool, init_model):\n\u001b[1;32m-> 1759\u001b[0m     \u001b[39mself\u001b[39;49m\u001b[39m.\u001b[39;49m_object\u001b[39m.\u001b[39;49m_train(train_pool, test_pool, params, allow_clear_pool, init_model\u001b[39m.\u001b[39;49m_object \u001b[39mif\u001b[39;49;00m init_model \u001b[39melse\u001b[39;49;00m \u001b[39mNone\u001b[39;49;00m)\n\u001b[0;32m   1760\u001b[0m     \u001b[39mself\u001b[39m\u001b[39m.\u001b[39m_set_trained_model_attributes()\n",
      "File \u001b[1;32m_catboost.pyx:4623\u001b[0m, in \u001b[0;36m_catboost._CatBoost._train\u001b[1;34m()\u001b[0m\n",
      "File \u001b[1;32m_catboost.pyx:4672\u001b[0m, in \u001b[0;36m_catboost._CatBoost._train\u001b[1;34m()\u001b[0m\n",
      "\u001b[1;31mCatBoostError\u001b[0m: C:/Program Files (x86)/Go Agent/pipelines/BuildMaster/catboost.git/catboost/private/libs/target/data_providers.cpp:612: Currently only multi-regression, multilabel and survival objectives work with multidimensional target"
     ]
    }
   ],
   "source": [
    "trained_model = CatBoostML().train_regressor(features=train_data, target=train_targets,\n",
    "k_fold_evaluation=True)"
   ]
  },
  {
   "cell_type": "code",
   "execution_count": null,
   "metadata": {},
   "outputs": [
    {
     "data": {
      "text/plain": [
       "<catboost.core.CatBoostRegressor at 0x1e543d26590>"
      ]
     },
     "execution_count": 9,
     "metadata": {},
     "output_type": "execute_result"
    }
   ],
   "source": [
    "trained_model"
   ]
  },
  {
   "cell_type": "code",
   "execution_count": null,
   "metadata": {},
   "outputs": [
    {
     "data": {
      "text/plain": [
       "{'learn': {'RMSE': 0.010599528948496315}}"
      ]
     },
     "execution_count": 10,
     "metadata": {},
     "output_type": "execute_result"
    }
   ],
   "source": [
    "trained_model.get_best_score()"
   ]
  },
  {
   "cell_type": "code",
   "execution_count": null,
   "metadata": {},
   "outputs": [],
   "source": [
    "try:\n",
    "    cb.to_regressor(cb.CatBoost(params={'loss_function': 'fuck'}))\n",
    "except cb.CatBoostError as e:\n",
    "    e_foreal = e"
   ]
  },
  {
   "cell_type": "code",
   "execution_count": null,
   "metadata": {},
   "outputs": [
    {
     "data": {
      "text/plain": [
       "'C:/Program Files (x86)/Go Agent/pipelines/BuildMaster/catboost.git/catboost/private/libs/options/loss_description.cpp:18: fuck loss is not supported'"
      ]
     },
     "execution_count": 12,
     "metadata": {},
     "output_type": "execute_result"
    }
   ],
   "source": [
    "\n",
    "str(e_foreal)"
   ]
  },
  {
   "cell_type": "code",
   "execution_count": null,
   "metadata": {},
   "outputs": [
    {
     "ename": "NameError",
     "evalue": "name 'test' is not defined",
     "output_type": "error",
     "traceback": [
      "\u001b[1;31m---------------------------------------------------------------------------\u001b[0m",
      "\u001b[1;31mNameError\u001b[0m                                 Traceback (most recent call last)",
      "Cell \u001b[1;32mIn [13], line 1\u001b[0m\n\u001b[1;32m----> 1\u001b[0m test\n",
      "\u001b[1;31mNameError\u001b[0m: name 'test' is not defined"
     ]
    }
   ],
   "source": [
    "test"
   ]
  },
  {
   "cell_type": "code",
   "execution_count": null,
   "metadata": {},
   "outputs": [],
   "source": [
    "test.fit(train_data, train_targets).get_all_params()"
   ]
  },
  {
   "cell_type": "code",
   "execution_count": null,
   "metadata": {},
   "outputs": [
    {
     "ename": "TypeError",
     "evalue": "CatBoostRegressor.__init__() got an unexpected keyword argument 'kwargs'",
     "output_type": "error",
     "traceback": [
      "\u001b[1;31m---------------------------------------------------------------------------\u001b[0m",
      "\u001b[1;31mTypeError\u001b[0m                                 Traceback (most recent call last)",
      "Cell \u001b[1;32mIn [51], line 1\u001b[0m\n\u001b[1;32m----> 1\u001b[0m test \u001b[39m=\u001b[39m cb\u001b[39m.\u001b[39mCatBoostRegressor(kwargs\u001b[39m=\u001b[39m{\u001b[39m'\u001b[39m\u001b[39meval_method\u001b[39m\u001b[39m'\u001b[39m: \u001b[39m'\u001b[39m\u001b[39mlog_loss\u001b[39m\u001b[39m'\u001b[39m})\n",
      "\u001b[1;31mTypeError\u001b[0m: CatBoostRegressor.__init__() got an unexpected keyword argument 'kwargs'"
     ]
    }
   ],
   "source": [
    "setattr(regressor, 'eval_method', '')"
   ]
  },
  {
   "cell_type": "code",
   "execution_count": null,
   "metadata": {},
   "outputs": [
    {
     "data": {
      "text/html": [
       "<div>\n",
       "<style scoped>\n",
       "    .dataframe tbody tr th:only-of-type {\n",
       "        vertical-align: middle;\n",
       "    }\n",
       "\n",
       "    .dataframe tbody tr th {\n",
       "        vertical-align: top;\n",
       "    }\n",
       "\n",
       "    .dataframe thead th {\n",
       "        text-align: right;\n",
       "    }\n",
       "</style>\n",
       "<table border=\"1\" class=\"dataframe\">\n",
       "  <thead>\n",
       "    <tr style=\"text-align: right;\">\n",
       "      <th></th>\n",
       "      <th>0</th>\n",
       "      <th>1</th>\n",
       "      <th>2</th>\n",
       "      <th>3</th>\n",
       "      <th>4</th>\n",
       "      <th>5</th>\n",
       "      <th>6</th>\n",
       "      <th>7</th>\n",
       "      <th>8</th>\n",
       "      <th>9</th>\n",
       "    </tr>\n",
       "  </thead>\n",
       "  <tbody>\n",
       "    <tr>\n",
       "      <th>0</th>\n",
       "      <td>1.008040e-311</td>\n",
       "      <td>1.008051e-311</td>\n",
       "      <td>0.000000e+00</td>\n",
       "      <td>6.952608e-310</td>\n",
       "      <td>2.272702e-322</td>\n",
       "      <td>1.008066e-311</td>\n",
       "      <td>1.008066e-311</td>\n",
       "      <td>1.008066e-311</td>\n",
       "      <td>1.008066e-311</td>\n",
       "      <td>1.008066e-311</td>\n",
       "    </tr>\n",
       "    <tr>\n",
       "      <th>1</th>\n",
       "      <td>1.008066e-311</td>\n",
       "      <td>1.008066e-311</td>\n",
       "      <td>1.008066e-311</td>\n",
       "      <td>1.008066e-311</td>\n",
       "      <td>1.008066e-311</td>\n",
       "      <td>1.008066e-311</td>\n",
       "      <td>1.008066e-311</td>\n",
       "      <td>1.008066e-311</td>\n",
       "      <td>1.008066e-311</td>\n",
       "      <td>1.008066e-311</td>\n",
       "    </tr>\n",
       "    <tr>\n",
       "      <th>2</th>\n",
       "      <td>1.008066e-311</td>\n",
       "      <td>1.008066e-311</td>\n",
       "      <td>1.008066e-311</td>\n",
       "      <td>1.008066e-311</td>\n",
       "      <td>1.008066e-311</td>\n",
       "      <td>1.008066e-311</td>\n",
       "      <td>1.008066e-311</td>\n",
       "      <td>1.008066e-311</td>\n",
       "      <td>1.008066e-311</td>\n",
       "      <td>1.008066e-311</td>\n",
       "    </tr>\n",
       "    <tr>\n",
       "      <th>3</th>\n",
       "      <td>1.008066e-311</td>\n",
       "      <td>1.008066e-311</td>\n",
       "      <td>1.008066e-311</td>\n",
       "      <td>1.008066e-311</td>\n",
       "      <td>1.008066e-311</td>\n",
       "      <td>1.008066e-311</td>\n",
       "      <td>1.008066e-311</td>\n",
       "      <td>1.008066e-311</td>\n",
       "      <td>1.008066e-311</td>\n",
       "      <td>1.008066e-311</td>\n",
       "    </tr>\n",
       "    <tr>\n",
       "      <th>4</th>\n",
       "      <td>1.008066e-311</td>\n",
       "      <td>1.008066e-311</td>\n",
       "      <td>1.008066e-311</td>\n",
       "      <td>1.008066e-311</td>\n",
       "      <td>1.008066e-311</td>\n",
       "      <td>1.008066e-311</td>\n",
       "      <td>1.008066e-311</td>\n",
       "      <td>1.008066e-311</td>\n",
       "      <td>1.008066e-311</td>\n",
       "      <td>1.008066e-311</td>\n",
       "    </tr>\n",
       "  </tbody>\n",
       "</table>\n",
       "</div>"
      ],
      "text/plain": [
       "               0              1              2              3              4  \\\n",
       "0  1.008040e-311  1.008051e-311   0.000000e+00  6.952608e-310  2.272702e-322   \n",
       "1  1.008066e-311  1.008066e-311  1.008066e-311  1.008066e-311  1.008066e-311   \n",
       "2  1.008066e-311  1.008066e-311  1.008066e-311  1.008066e-311  1.008066e-311   \n",
       "3  1.008066e-311  1.008066e-311  1.008066e-311  1.008066e-311  1.008066e-311   \n",
       "4  1.008066e-311  1.008066e-311  1.008066e-311  1.008066e-311  1.008066e-311   \n",
       "\n",
       "               5              6              7              8              9  \n",
       "0  1.008066e-311  1.008066e-311  1.008066e-311  1.008066e-311  1.008066e-311  \n",
       "1  1.008066e-311  1.008066e-311  1.008066e-311  1.008066e-311  1.008066e-311  \n",
       "2  1.008066e-311  1.008066e-311  1.008066e-311  1.008066e-311  1.008066e-311  \n",
       "3  1.008066e-311  1.008066e-311  1.008066e-311  1.008066e-311  1.008066e-311  \n",
       "4  1.008066e-311  1.008066e-311  1.008066e-311  1.008066e-311  1.008066e-311  "
      ]
     },
     "execution_count": 5,
     "metadata": {},
     "output_type": "execute_result"
    }
   ],
   "source": [
    "pd.DataFrame()"
   ]
  },
  {
   "cell_type": "code",
   "execution_count": null,
   "metadata": {},
   "outputs": [],
   "source": []
  }
 ],
 "metadata": {
  "kernelspec": {
   "display_name": "Python 3.10.6 ('enviro_data')",
   "language": "python",
   "name": "python3"
  },
  "language_info": {
   "codemirror_mode": {
    "name": "ipython",
    "version": 3
   },
   "file_extension": ".py",
   "mimetype": "text/x-python",
   "name": "python",
   "nbconvert_exporter": "python",
   "pygments_lexer": "ipython3",
   "version": "3.10.6"
  },
  "orig_nbformat": 4,
  "vscode": {
   "interpreter": {
    "hash": "f29540a5cf1427b40929ea29dc5eea5cba686aecc340717e57e0aa469ff17efc"
   }
  }
 },
 "nbformat": 4,
 "nbformat_minor": 2
}
